{
  "cells": [
    {
      "cell_type": "markdown",
      "metadata": {
        "id": "view-in-github",
        "colab_type": "text"
      },
      "source": [
        "<a href=\"https://colab.research.google.com/github/viicguimaraes14/Extracting-frames/blob/main/extrair_frames_yt.ipynb\" target=\"_parent\"><img src=\"https://colab.research.google.com/assets/colab-badge.svg\" alt=\"Open In Colab\"/></a>"
      ]
    },
    {
      "cell_type": "markdown",
      "metadata": {
        "id": "ihRXuxKBs3hm"
      },
      "source": [
        "#Bibliotecas"
      ]
    },
    {
      "cell_type": "code",
      "execution_count": null,
      "metadata": {
        "colab": {
          "base_uri": "https://localhost:8080/"
        },
        "id": "rWGXGt03k6QD",
        "outputId": "35257857-9ac5-40bd-ce27-eb6d69aeaeaf"
      },
      "outputs": [
        {
          "output_type": "stream",
          "name": "stdout",
          "text": [
            "Mounted at /content/drive\n"
          ]
        }
      ],
      "source": [
        "from google.colab import drive\n",
        "drive.mount('/content/drive')"
      ]
    },
    {
      "cell_type": "code",
      "execution_count": null,
      "metadata": {
        "id": "7QdzuVSFK6s7"
      },
      "outputs": [],
      "source": [
        "#!pip install --upgrade youtube_dl"
      ]
    },
    {
      "cell_type": "code",
      "execution_count": null,
      "metadata": {
        "colab": {
          "base_uri": "https://localhost:8080/"
        },
        "id": "gEwoz2hgX7aT",
        "outputId": "41ab4a0c-debf-4c41-8424-8c252f3c61bd"
      },
      "outputs": [
        {
          "output_type": "stream",
          "name": "stdout",
          "text": [
            "Looking in indexes: https://pypi.org/simple, https://us-python.pkg.dev/colab-wheels/public/simple/\n",
            "Collecting youtube_transcript_api\n",
            "  Downloading youtube_transcript_api-0.4.4-py3-none-any.whl (22 kB)\n",
            "Requirement already satisfied: requests in /usr/local/lib/python3.7/dist-packages (from youtube_transcript_api) (2.23.0)\n",
            "Requirement already satisfied: urllib3!=1.25.0,!=1.25.1,<1.26,>=1.21.1 in /usr/local/lib/python3.7/dist-packages (from requests->youtube_transcript_api) (1.24.3)\n",
            "Requirement already satisfied: idna<3,>=2.5 in /usr/local/lib/python3.7/dist-packages (from requests->youtube_transcript_api) (2.10)\n",
            "Requirement already satisfied: certifi>=2017.4.17 in /usr/local/lib/python3.7/dist-packages (from requests->youtube_transcript_api) (2022.6.15)\n",
            "Requirement already satisfied: chardet<4,>=3.0.2 in /usr/local/lib/python3.7/dist-packages (from requests->youtube_transcript_api) (3.0.4)\n",
            "Installing collected packages: youtube-transcript-api\n",
            "Successfully installed youtube-transcript-api-0.4.4\n"
          ]
        }
      ],
      "source": [
        "!pip install youtube_transcript_api"
      ]
    },
    {
      "cell_type": "code",
      "execution_count": null,
      "metadata": {
        "colab": {
          "base_uri": "https://localhost:8080/"
        },
        "id": "bqvzP0oveQm6",
        "outputId": "05e24344-e4f8-4627-a7c6-c2e1407ecace"
      },
      "outputs": [
        {
          "output_type": "stream",
          "name": "stdout",
          "text": [
            "Looking in indexes: https://pypi.org/simple, https://us-python.pkg.dev/colab-wheels/public/simple/\n",
            "Collecting youtube-dl==2020.12.2\n",
            "  Downloading youtube_dl-2020.12.2-py2.py3-none-any.whl (1.8 MB)\n",
            "\u001b[K     |████████████████████████████████| 1.8 MB 31.2 MB/s \n",
            "\u001b[?25hInstalling collected packages: youtube-dl\n",
            "Successfully installed youtube-dl-2020.12.2\n"
          ]
        }
      ],
      "source": [
        "!pip install youtube-dl==2020.12.2"
      ]
    },
    {
      "cell_type": "code",
      "execution_count": null,
      "metadata": {
        "colab": {
          "base_uri": "https://localhost:8080/"
        },
        "id": "IMnSMgilOTFo",
        "outputId": "5df741da-51ab-460a-9deb-acaac5ce2b28"
      },
      "outputs": [
        {
          "output_type": "stream",
          "name": "stdout",
          "text": [
            "Looking in indexes: https://pypi.org/simple, https://us-python.pkg.dev/colab-wheels/public/simple/\n",
            "Collecting pafy\n",
            "  Downloading pafy-0.5.5-py2.py3-none-any.whl (35 kB)\n",
            "Installing collected packages: pafy\n",
            "Successfully installed pafy-0.5.5\n"
          ]
        }
      ],
      "source": [
        "!pip install pafy"
      ]
    },
    {
      "cell_type": "code",
      "execution_count": null,
      "metadata": {
        "id": "jAOMmv53LA5i"
      },
      "outputs": [],
      "source": [
        "# import module\n",
        "import cv2\n",
        "import datetime\n",
        "from matplotlib import pyplot as plt\n",
        "import pafy\n",
        "import numpy as np\n",
        "import glob\n",
        "from PIL import Image\n",
        "import pandas as pd\n",
        "%reload_ext google.colab.data_table\n",
        "from google.colab import data_table\n",
        "from youtube_transcript_api import YouTubeTranscriptApi"
      ]
    },
    {
      "cell_type": "markdown",
      "metadata": {
        "id": "1ScH-PcrLGV8"
      },
      "source": [
        "#Pegando o video direto do youtube"
      ]
    },
    {
      "cell_type": "code",
      "execution_count": null,
      "metadata": {
        "id": "MNUZur67Zmja"
      },
      "outputs": [],
      "source": [
        "#Inserir aqui o vídeo ID\n",
        "videoId = \"\""
      ]
    },
    {
      "cell_type": "code",
      "execution_count": null,
      "metadata": {
        "id": "OElLY8YaLMFS"
      },
      "outputs": [],
      "source": [
        "url = \"https://www.youtube.com/watch?v=\" + videoId\n",
        "video = pafy.new(url)\n",
        "best  = video.getbest(preftype=\"mp4\")"
      ]
    },
    {
      "cell_type": "code",
      "execution_count": null,
      "metadata": {
        "colab": {
          "base_uri": "https://localhost:8080/",
          "height": 321
        },
        "id": "APnTfOplTivA",
        "outputId": "5142a0c1-f373-42fd-c0b0-cc9510c022a0"
      },
      "outputs": [
        {
          "output_type": "display_data",
          "data": {
            "text/plain": [
              "<IPython.lib.display.YouTubeVideo at 0x7f2ad910b5d0>"
            ],
            "text/html": [
              "\n",
              "        <iframe\n",
              "            width=\"500\"\n",
              "            height=\"300\"\n",
              "            src=\"https://www.youtube.com/embed/hFlTNRLmRbM\"\n",
              "            frameborder=\"0\"\n",
              "            allowfullscreen\n",
              "        ></iframe>\n",
              "        "
            ],
            "image/jpeg": "[encoded data removed]"
          },
          "metadata": {}
        }
      ],
      "source": [
        "# This is the video we're going to process\n",
        "from IPython.display import YouTubeVideo, display\n",
        "v = YouTubeVideo(videoId, width=500)\n",
        "display(v)"
      ]
    },
    {
      "cell_type": "code",
      "execution_count": null,
      "metadata": {
        "colab": {
          "base_uri": "https://localhost:8080/",
          "height": 35
        },
        "id": "AAqGf7DMLOqy",
        "outputId": "a403ab5a-56b4-41b5-9d3e-eb6589b5df4e"
      },
      "outputs": [
        {
          "output_type": "execute_result",
          "data": {
            "text/plain": [
              "'News & Politics'"
            ],
            "application/vnd.google.colaboratory.intrinsic+json": {
              "type": "string"
            }
          },
          "metadata": {},
          "execution_count": 9
        }
      ],
      "source": [
        "video.category"
      ]
    },
    {
      "cell_type": "code",
      "execution_count": null,
      "metadata": {
        "colab": {
          "base_uri": "https://localhost:8080/",
          "height": 35
        },
        "id": "xM0ARIhLLRco",
        "outputId": "0a75bcec-514e-469f-ed7f-efd518859739"
      },
      "outputs": [
        {
          "output_type": "execute_result",
          "data": {
            "text/plain": [
              "'A verdade da preservação ambiental comparando o Brasil ao mundo.'"
            ],
            "application/vnd.google.colaboratory.intrinsic+json": {
              "type": "string"
            }
          },
          "metadata": {},
          "execution_count": 10
        }
      ],
      "source": [
        "video.title"
      ]
    },
    {
      "cell_type": "markdown",
      "metadata": {
        "id": "KnQiIkAMLaWl"
      },
      "source": [
        "#Find the video time using framesCount and FPS"
      ]
    },
    {
      "cell_type": "code",
      "execution_count": null,
      "metadata": {
        "colab": {
          "base_uri": "https://localhost:8080/"
        },
        "id": "Dvn0NeWfLT_7",
        "outputId": "359c3a73-b14a-4349-cacb-75cbdb65dfcf"
      },
      "outputs": [
        {
          "output_type": "execute_result",
          "data": {
            "text/plain": [
              "(1280, 720)"
            ]
          },
          "metadata": {},
          "execution_count": 11
        }
      ],
      "source": [
        "best.dimensions"
      ]
    },
    {
      "cell_type": "code",
      "execution_count": null,
      "metadata": {
        "colab": {
          "base_uri": "https://localhost:8080/"
        },
        "id": "Eneq6WPULcgC",
        "outputId": "692513c0-b846-4a06-dbcf-fd0e4379d8e5"
      },
      "outputs": [
        {
          "output_type": "stream",
          "name": "stdout",
          "text": [
            "30\n",
            "duration in seconds: 152\n",
            "video time: 0:02:32\n"
          ]
        }
      ],
      "source": [
        "# create video capture object\n",
        "data = cv2.VideoCapture(best.url)\n",
        "  \n",
        "# count the number of frames\n",
        "frames = data.get(cv2.CAP_PROP_FRAME_COUNT)\n",
        "fps = int(data.get(cv2.CAP_PROP_FPS))\n",
        "print(fps)\n",
        "  \n",
        "# calculate dusration of the video\n",
        "seconds = int(frames / fps)\n",
        "video_time = str(datetime.timedelta(seconds=seconds))\n",
        "print(\"duration in seconds:\", seconds)\n",
        "print(\"video time:\", video_time)"
      ]
    },
    {
      "cell_type": "markdown",
      "metadata": {
        "id": "NIAb8R58Y_kg"
      },
      "source": [
        "#Get Caption"
      ]
    },
    {
      "cell_type": "code",
      "execution_count": null,
      "metadata": {
        "id": "-BoRyt65ZxYL"
      },
      "outputs": [],
      "source": [
        "#formata o valor de segundos para hh:mm:ss \n",
        "def format_time(segundo):\n",
        "    return str(datetime.timedelta(seconds=segundo))"
      ]
    },
    {
      "cell_type": "code",
      "execution_count": null,
      "metadata": {
        "colab": {
          "base_uri": "https://localhost:8080/",
          "height": 252
        },
        "id": "l-S6WnRLY85r",
        "outputId": "1c85c313-f2c5-46ba-e1a1-f0e59634f178"
      },
      "outputs": [
        {
          "output_type": "stream",
          "name": "stdout",
          "text": [
            "Caption desativado\n"
          ]
        },
        {
          "output_type": "error",
          "ename": "NameError",
          "evalue": "ignored",
          "traceback": [
            "\u001b[0;31m---------------------------------------------------------------------------\u001b[0m",
            "\u001b[0;31mNameError\u001b[0m                                 Traceback (most recent call last)",
            "\u001b[0;32m<ipython-input-13-ee9ed28cbf9f>\u001b[0m in \u001b[0;36m<module>\u001b[0;34m()\u001b[0m\n\u001b[1;32m      5\u001b[0m     \u001b[0;31m#caso não tenha caption\u001b[0m\u001b[0;34m\u001b[0m\u001b[0;34m\u001b[0m\u001b[0;34m\u001b[0m\u001b[0m\n\u001b[1;32m      6\u001b[0m     \u001b[0mprint\u001b[0m\u001b[0;34m(\u001b[0m\u001b[0;34m\"Caption desativado\"\u001b[0m\u001b[0;34m)\u001b[0m\u001b[0;34m\u001b[0m\u001b[0;34m\u001b[0m\u001b[0m\n\u001b[0;32m----> 7\u001b[0;31m \u001b[0mdf_caption\u001b[0m \u001b[0;34m=\u001b[0m \u001b[0mpd\u001b[0m\u001b[0;34m.\u001b[0m\u001b[0mDataFrame\u001b[0m\u001b[0;34m(\u001b[0m\u001b[0mcaption\u001b[0m\u001b[0;34m)\u001b[0m\u001b[0;34m\u001b[0m\u001b[0;34m\u001b[0m\u001b[0m\n\u001b[0m\u001b[1;32m      8\u001b[0m \u001b[0mdf_caption\u001b[0m\u001b[0;34m[\u001b[0m\u001b[0;34m'end'\u001b[0m\u001b[0;34m]\u001b[0m \u001b[0;34m=\u001b[0m \u001b[0mdf_caption\u001b[0m\u001b[0;34m.\u001b[0m\u001b[0msum\u001b[0m\u001b[0;34m(\u001b[0m\u001b[0maxis\u001b[0m\u001b[0;34m=\u001b[0m\u001b[0;36m1\u001b[0m\u001b[0;34m)\u001b[0m\u001b[0;34m\u001b[0m\u001b[0;34m\u001b[0m\u001b[0m\n\u001b[1;32m      9\u001b[0m \u001b[0mdf_caption\u001b[0m\u001b[0;34m.\u001b[0m\u001b[0minsert\u001b[0m\u001b[0;34m(\u001b[0m\u001b[0;36m2\u001b[0m\u001b[0;34m,\u001b[0m \u001b[0;34m'td_inicial'\u001b[0m\u001b[0;34m,\u001b[0m \u001b[0mdf_caption\u001b[0m\u001b[0;34m.\u001b[0m\u001b[0mstart\u001b[0m\u001b[0;34m.\u001b[0m\u001b[0mapply\u001b[0m\u001b[0;34m(\u001b[0m\u001b[0mformat_time\u001b[0m\u001b[0;34m)\u001b[0m\u001b[0;34m)\u001b[0m \u001b[0;31m# td_inicial = tempo de display inicial (hh:mm:ss)\u001b[0m\u001b[0;34m\u001b[0m\u001b[0;34m\u001b[0m\u001b[0m\n",
            "\u001b[0;31mNameError\u001b[0m: name 'caption' is not defined"
          ]
        }
      ],
      "source": [
        "try:\n",
        "    #acessa o caption do video e add na lista de allCaptions\n",
        "    caption = YouTubeTranscriptApi.get_transcript(videoId,languages=[\"pt\"])\n",
        "except:\n",
        "    #caso não tenha caption\n",
        "    print(\"Caption desativado\")\n",
        "df_caption = pd.DataFrame(caption)\n",
        "df_caption['end'] = df_caption.sum(axis=1)\n",
        "df_caption.insert(2, 'td_inicial', df_caption.start.apply(format_time)) # td_inicial = tempo de display inicial (hh:mm:ss)\n",
        "df_caption.insert(3, 'td_final', df_caption.end.apply(format_time)) # td_final = tempo de display inicial (hh:mm:ss)\n",
        "df_caption = df_caption.drop(['start', 'duration','end'],axis=1) # removendo a coluna start\n",
        "df_caption"
      ]
    },
    {
      "cell_type": "code",
      "execution_count": null,
      "metadata": {
        "colab": {
          "base_uri": "https://localhost:8080/",
          "height": 165
        },
        "id": "kpm3oY-Z2wEg",
        "outputId": "c11ff3ac-6dc7-4a6c-a7e1-95ea852724ed"
      },
      "outputs": [
        {
          "output_type": "error",
          "ename": "NameError",
          "evalue": "ignored",
          "traceback": [
            "\u001b[0;31m---------------------------------------------------------------------------\u001b[0m",
            "\u001b[0;31mNameError\u001b[0m                                 Traceback (most recent call last)",
            "\u001b[0;32m<ipython-input-14-1f5ea10d3138>\u001b[0m in \u001b[0;36m<module>\u001b[0;34m()\u001b[0m\n\u001b[0;32m----> 1\u001b[0;31m \u001b[0mdf_caption\u001b[0m\u001b[0;34m\u001b[0m\u001b[0;34m\u001b[0m\u001b[0m\n\u001b[0m",
            "\u001b[0;31mNameError\u001b[0m: name 'df_caption' is not defined"
          ]
        }
      ],
      "source": [
        "df_caption"
      ]
    },
    {
      "cell_type": "markdown",
      "metadata": {
        "id": "bTJRaWVnT4oU"
      },
      "source": [
        "#Extract all frames from a particula time interval"
      ]
    },
    {
      "cell_type": "code",
      "execution_count": null,
      "metadata": {
        "id": "2sxgP9NfT6xX"
      },
      "outputs": [],
      "source": [
        "tempoInicial = '0:00:00'\n",
        "tempoFinal = '0:02:32'"
      ]
    },
    {
      "cell_type": "code",
      "execution_count": null,
      "metadata": {
        "colab": {
          "base_uri": "https://localhost:8080/"
        },
        "id": "6CF1B1JeT8Ka",
        "outputId": "7e0125d8-cf55-4b5a-9e8e-f27ce2fefa6c"
      },
      "outputs": [
        {
          "output_type": "execute_result",
          "data": {
            "text/plain": [
              "True"
            ]
          },
          "metadata": {},
          "execution_count": 16
        }
      ],
      "source": [
        "tempoFinal >= tempoInicial"
      ]
    },
    {
      "cell_type": "code",
      "execution_count": null,
      "metadata": {
        "colab": {
          "base_uri": "https://localhost:8080/",
          "height": 3293
        },
        "id": "vGfhVFM3T9k6",
        "outputId": "0bc7d393-36de-4a41-a117-8d17975cd486"
      },
      "outputs": [
        {
          "output_type": "stream",
          "name": "stdout",
          "text": [
            "FPS:  30\n",
            "Read a new frame img1.jpg at time 0:00:00\n",
            "Read a new frame img2.jpg at time 0:00:01\n",
            "Read a new frame img3.jpg at time 0:00:02\n",
            "Read a new frame img4.jpg at time 0:00:03\n",
            "Read a new frame img5.jpg at time 0:00:04\n",
            "Read a new frame img6.jpg at time 0:00:05\n",
            "Read a new frame img7.jpg at time 0:00:06\n",
            "Read a new frame img8.jpg at time 0:00:07\n",
            "Read a new frame img9.jpg at time 0:00:08\n",
            "Read a new frame img10.jpg at time 0:00:09\n",
            "Read a new frame img11.jpg at time 0:00:10\n",
            "Read a new frame img12.jpg at time 0:00:11\n",
            "Read a new frame img13.jpg at time 0:00:12\n",
            "Read a new frame img14.jpg at time 0:00:13\n",
            "Read a new frame img15.jpg at time 0:00:14\n",
            "Read a new frame img16.jpg at time 0:00:15\n",
            "Read a new frame img17.jpg at time 0:00:16\n",
            "Read a new frame img18.jpg at time 0:00:17\n",
            "Read a new frame img19.jpg at time 0:00:18\n",
            "Read a new frame img20.jpg at time 0:00:19\n",
            "Read a new frame img21.jpg at time 0:00:20\n",
            "Read a new frame img22.jpg at time 0:00:21\n",
            "Read a new frame img23.jpg at time 0:00:22\n",
            "Read a new frame img24.jpg at time 0:00:23\n",
            "Read a new frame img25.jpg at time 0:00:24\n",
            "Read a new frame img26.jpg at time 0:00:25\n",
            "Read a new frame img27.jpg at time 0:00:26\n",
            "Read a new frame img28.jpg at time 0:00:27\n",
            "Read a new frame img29.jpg at time 0:00:28\n",
            "Read a new frame img30.jpg at time 0:00:29\n",
            "Read a new frame img31.jpg at time 0:00:30\n",
            "Read a new frame img32.jpg at time 0:00:31\n",
            "Read a new frame img33.jpg at time 0:00:32\n",
            "Read a new frame img34.jpg at time 0:00:33\n",
            "Read a new frame img35.jpg at time 0:00:34\n",
            "Read a new frame img36.jpg at time 0:00:35\n",
            "Read a new frame img37.jpg at time 0:00:36\n",
            "Read a new frame img38.jpg at time 0:00:37\n",
            "Read a new frame img39.jpg at time 0:00:38\n",
            "Read a new frame img40.jpg at time 0:00:39\n",
            "Read a new frame img41.jpg at time 0:00:40\n",
            "Read a new frame img42.jpg at time 0:00:41\n",
            "Read a new frame img43.jpg at time 0:00:42\n",
            "Read a new frame img44.jpg at time 0:00:43\n",
            "Read a new frame img45.jpg at time 0:00:44\n",
            "Read a new frame img46.jpg at time 0:00:45\n",
            "Read a new frame img47.jpg at time 0:00:46\n",
            "Read a new frame img48.jpg at time 0:00:47\n",
            "Read a new frame img49.jpg at time 0:00:48\n",
            "Read a new frame img50.jpg at time 0:00:49\n",
            "Read a new frame img51.jpg at time 0:00:50\n",
            "Read a new frame img52.jpg at time 0:00:51\n",
            "Read a new frame img53.jpg at time 0:00:52\n",
            "Read a new frame img54.jpg at time 0:00:53\n",
            "Read a new frame img55.jpg at time 0:00:54\n",
            "Read a new frame img56.jpg at time 0:00:55\n",
            "Read a new frame img57.jpg at time 0:00:56\n",
            "Read a new frame img58.jpg at time 0:00:57\n",
            "Read a new frame img59.jpg at time 0:00:58\n",
            "Read a new frame img60.jpg at time 0:00:59\n",
            "Read a new frame img61.jpg at time 0:01:00\n",
            "Read a new frame img62.jpg at time 0:01:01\n",
            "Read a new frame img63.jpg at time 0:01:02\n",
            "Read a new frame img64.jpg at time 0:01:03\n",
            "Read a new frame img65.jpg at time 0:01:04\n",
            "Read a new frame img66.jpg at time 0:01:05\n",
            "Read a new frame img67.jpg at time 0:01:06\n",
            "Read a new frame img68.jpg at time 0:01:07\n",
            "Read a new frame img69.jpg at time 0:01:08\n",
            "Read a new frame img70.jpg at time 0:01:09\n",
            "Read a new frame img71.jpg at time 0:01:10\n",
            "Read a new frame img72.jpg at time 0:01:11\n",
            "Read a new frame img73.jpg at time 0:01:12\n",
            "Read a new frame img74.jpg at time 0:01:13\n",
            "Read a new frame img75.jpg at time 0:01:14\n",
            "Read a new frame img76.jpg at time 0:01:15\n",
            "Read a new frame img77.jpg at time 0:01:16\n",
            "Read a new frame img78.jpg at time 0:01:17\n",
            "Read a new frame img79.jpg at time 0:01:18\n",
            "Read a new frame img80.jpg at time 0:01:19\n",
            "Read a new frame img81.jpg at time 0:01:20\n",
            "Read a new frame img82.jpg at time 0:01:21\n",
            "Read a new frame img83.jpg at time 0:01:22\n",
            "Read a new frame img84.jpg at time 0:01:23\n",
            "Read a new frame img85.jpg at time 0:01:24\n",
            "Read a new frame img86.jpg at time 0:01:25\n",
            "Read a new frame img87.jpg at time 0:01:26\n",
            "Read a new frame img88.jpg at time 0:01:27\n",
            "Read a new frame img89.jpg at time 0:01:28\n",
            "Read a new frame img90.jpg at time 0:01:29\n",
            "Read a new frame img91.jpg at time 0:01:30\n",
            "Read a new frame img92.jpg at time 0:01:31\n",
            "Read a new frame img93.jpg at time 0:01:32\n",
            "Read a new frame img94.jpg at time 0:01:33\n",
            "Read a new frame img95.jpg at time 0:01:34\n",
            "Read a new frame img96.jpg at time 0:01:35\n",
            "Read a new frame img97.jpg at time 0:01:36\n",
            "Read a new frame img98.jpg at time 0:01:37\n",
            "Read a new frame img99.jpg at time 0:01:38\n",
            "Read a new frame img100.jpg at time 0:01:39\n",
            "Read a new frame img101.jpg at time 0:01:40\n",
            "Read a new frame img102.jpg at time 0:01:41\n",
            "Read a new frame img103.jpg at time 0:01:42\n",
            "Read a new frame img104.jpg at time 0:01:43\n",
            "Read a new frame img105.jpg at time 0:01:44\n",
            "Read a new frame img106.jpg at time 0:01:45\n",
            "Read a new frame img107.jpg at time 0:01:46\n",
            "Read a new frame img108.jpg at time 0:01:47\n",
            "Read a new frame img109.jpg at time 0:01:48\n",
            "Read a new frame img110.jpg at time 0:01:49\n",
            "Read a new frame img111.jpg at time 0:01:50\n",
            "Read a new frame img112.jpg at time 0:01:51\n",
            "Read a new frame img113.jpg at time 0:01:52\n",
            "Read a new frame img114.jpg at time 0:01:53\n",
            "Read a new frame img115.jpg at time 0:01:54\n",
            "Read a new frame img116.jpg at time 0:01:55\n",
            "Read a new frame img117.jpg at time 0:01:56\n",
            "Read a new frame img118.jpg at time 0:01:57\n",
            "Read a new frame img119.jpg at time 0:01:58\n",
            "Read a new frame img120.jpg at time 0:01:59\n",
            "Read a new frame img121.jpg at time 0:02:00\n",
            "Read a new frame img122.jpg at time 0:02:01\n",
            "Read a new frame img123.jpg at time 0:02:02\n",
            "Read a new frame img124.jpg at time 0:02:03\n",
            "Read a new frame img125.jpg at time 0:02:04\n",
            "Read a new frame img126.jpg at time 0:02:05\n",
            "Read a new frame img127.jpg at time 0:02:06\n",
            "Read a new frame img128.jpg at time 0:02:07\n",
            "Read a new frame img129.jpg at time 0:02:08\n",
            "Read a new frame img130.jpg at time 0:02:09\n",
            "Read a new frame img131.jpg at time 0:02:10\n",
            "Read a new frame img132.jpg at time 0:02:11\n",
            "Read a new frame img133.jpg at time 0:02:12\n",
            "Read a new frame img134.jpg at time 0:02:13\n",
            "Read a new frame img135.jpg at time 0:02:14\n",
            "Read a new frame img136.jpg at time 0:02:15\n",
            "Read a new frame img137.jpg at time 0:02:16\n",
            "Read a new frame img138.jpg at time 0:02:17\n",
            "Read a new frame img139.jpg at time 0:02:18\n",
            "Read a new frame img140.jpg at time 0:02:19\n",
            "Read a new frame img141.jpg at time 0:02:20\n",
            "Read a new frame img142.jpg at time 0:02:21\n",
            "Read a new frame img143.jpg at time 0:02:22\n",
            "Read a new frame img144.jpg at time 0:02:23\n",
            "Read a new frame img145.jpg at time 0:02:24\n",
            "Read a new frame img146.jpg at time 0:02:25\n",
            "Read a new frame img147.jpg at time 0:02:26\n",
            "Read a new frame img148.jpg at time 0:02:27\n",
            "Read a new frame img149.jpg at time 0:02:28\n",
            "Read a new frame img150.jpg at time 0:02:29\n",
            "Read a new frame img151.jpg at time 0:02:30\n",
            "Read a new frame img152.jpg at time 0:02:31\n"
          ]
        },
        {
          "output_type": "execute_result",
          "data": {
            "text/plain": [
              "       tempo       frame\n",
              "0    0:00:00    img1.jpg\n",
              "1    0:00:01    img2.jpg\n",
              "2    0:00:02    img3.jpg\n",
              "3    0:00:03    img4.jpg\n",
              "4    0:00:04    img5.jpg\n",
              "..       ...         ...\n",
              "147  0:02:27  img148.jpg\n",
              "148  0:02:28  img149.jpg\n",
              "149  0:02:29  img150.jpg\n",
              "150  0:02:30  img151.jpg\n",
              "151  0:02:31  img152.jpg\n",
              "\n",
              "[152 rows x 2 columns]"
            ],
            "text/html": [
              "\n",
              "  <div id=\"df-7c74bf70-9e1d-45c2-a863-8d3b0e9f4525\">\n",
              "    <div class=\"colab-df-container\">\n",
              "      <div>\n",
              "<style scoped>\n",
              "    .dataframe tbody tr th:only-of-type {\n",
              "        vertical-align: middle;\n",
              "    }\n",
              "\n",
              "    .dataframe tbody tr th {\n",
              "        vertical-align: top;\n",
              "    }\n",
              "\n",
              "    .dataframe thead th {\n",
              "        text-align: right;\n",
              "    }\n",
              "</style>\n",
              "<table border=\"1\" class=\"dataframe\">\n",
              "  <thead>\n",
              "    <tr style=\"text-align: right;\">\n",
              "      <th></th>\n",
              "      <th>tempo</th>\n",
              "      <th>frame</th>\n",
              "    </tr>\n",
              "  </thead>\n",
              "  <tbody>\n",
              "    <tr>\n",
              "      <th>0</th>\n",
              "      <td>0:00:00</td>\n",
              "      <td>img1.jpg</td>\n",
              "    </tr>\n",
              "    <tr>\n",
              "      <th>1</th>\n",
              "      <td>0:00:01</td>\n",
              "      <td>img2.jpg</td>\n",
              "    </tr>\n",
              "    <tr>\n",
              "      <th>2</th>\n",
              "      <td>0:00:02</td>\n",
              "      <td>img3.jpg</td>\n",
              "    </tr>\n",
              "    <tr>\n",
              "      <th>3</th>\n",
              "      <td>0:00:03</td>\n",
              "      <td>img4.jpg</td>\n",
              "    </tr>\n",
              "    <tr>\n",
              "      <th>4</th>\n",
              "      <td>0:00:04</td>\n",
              "      <td>img5.jpg</td>\n",
              "    </tr>\n",
              "    <tr>\n",
              "      <th>...</th>\n",
              "      <td>...</td>\n",
              "      <td>...</td>\n",
              "    </tr>\n",
              "    <tr>\n",
              "      <th>147</th>\n",
              "      <td>0:02:27</td>\n",
              "      <td>img148.jpg</td>\n",
              "    </tr>\n",
              "    <tr>\n",
              "      <th>148</th>\n",
              "      <td>0:02:28</td>\n",
              "      <td>img149.jpg</td>\n",
              "    </tr>\n",
              "    <tr>\n",
              "      <th>149</th>\n",
              "      <td>0:02:29</td>\n",
              "      <td>img150.jpg</td>\n",
              "    </tr>\n",
              "    <tr>\n",
              "      <th>150</th>\n",
              "      <td>0:02:30</td>\n",
              "      <td>img151.jpg</td>\n",
              "    </tr>\n",
              "    <tr>\n",
              "      <th>151</th>\n",
              "      <td>0:02:31</td>\n",
              "      <td>img152.jpg</td>\n",
              "    </tr>\n",
              "  </tbody>\n",
              "</table>\n",
              "<p>152 rows × 2 columns</p>\n",
              "</div>\n",
              "      <button class=\"colab-df-convert\" onclick=\"convertToInteractive('df-7c74bf70-9e1d-45c2-a863-8d3b0e9f4525')\"\n",
              "              title=\"Convert this dataframe to an interactive table.\"\n",
              "              style=\"display:none;\">\n",
              "        \n",
              "  <svg xmlns=\"http://www.w3.org/2000/svg\" height=\"24px\"viewBox=\"0 0 24 24\"\n",
              "       width=\"24px\">\n",
              "    <path d=\"M0 0h24v24H0V0z\" fill=\"none\"/>\n",
              "    <path d=\"M18.56 5.44l.94 2.06.94-2.06 2.06-.94-2.06-.94-.94-2.06-.94 2.06-2.06.94zm-11 1L8.5 8.5l.94-2.06 2.06-.94-2.06-.94L8.5 2.5l-.94 2.06-2.06.94zm10 10l.94 2.06.94-2.06 2.06-.94-2.06-.94-.94-2.06-.94 2.06-2.06.94z\"/><path d=\"M17.41 7.96l-1.37-1.37c-.4-.4-.92-.59-1.43-.59-.52 0-1.04.2-1.43.59L10.3 9.45l-7.72 7.72c-.78.78-.78 2.05 0 2.83L4 21.41c.39.39.9.59 1.41.59.51 0 1.02-.2 1.41-.59l7.78-7.78 2.81-2.81c.8-.78.8-2.07 0-2.86zM5.41 20L4 18.59l7.72-7.72 1.47 1.35L5.41 20z\"/>\n",
              "  </svg>\n",
              "      </button>\n",
              "      \n",
              "  <style>\n",
              "    .colab-df-container {\n",
              "      display:flex;\n",
              "      flex-wrap:wrap;\n",
              "      gap: 12px;\n",
              "    }\n",
              "\n",
              "    .colab-df-convert {\n",
              "      background-color: #E8F0FE;\n",
              "      border: none;\n",
              "      border-radius: 50%;\n",
              "      cursor: pointer;\n",
              "      display: none;\n",
              "      fill: #1967D2;\n",
              "      height: 32px;\n",
              "      padding: 0 0 0 0;\n",
              "      width: 32px;\n",
              "    }\n",
              "\n",
              "    .colab-df-convert:hover {\n",
              "      background-color: #E2EBFA;\n",
              "      box-shadow: 0px 1px 2px rgba(60, 64, 67, 0.3), 0px 1px 3px 1px rgba(60, 64, 67, 0.15);\n",
              "      fill: #174EA6;\n",
              "    }\n",
              "\n",
              "    [theme=dark] .colab-df-convert {\n",
              "      background-color: #3B4455;\n",
              "      fill: #D2E3FC;\n",
              "    }\n",
              "\n",
              "    [theme=dark] .colab-df-convert:hover {\n",
              "      background-color: #434B5C;\n",
              "      box-shadow: 0px 1px 3px 1px rgba(0, 0, 0, 0.15);\n",
              "      filter: drop-shadow(0px 1px 2px rgba(0, 0, 0, 0.3));\n",
              "      fill: #FFFFFF;\n",
              "    }\n",
              "  </style>\n",
              "\n",
              "      <script>\n",
              "        const buttonEl =\n",
              "          document.querySelector('#df-7c74bf70-9e1d-45c2-a863-8d3b0e9f4525 button.colab-df-convert');\n",
              "        buttonEl.style.display =\n",
              "          google.colab.kernel.accessAllowed ? 'block' : 'none';\n",
              "\n",
              "        async function convertToInteractive(key) {\n",
              "          const element = document.querySelector('#df-7c74bf70-9e1d-45c2-a863-8d3b0e9f4525');\n",
              "          const dataTable =\n",
              "            await google.colab.kernel.invokeFunction('convertToInteractive',\n",
              "                                                     [key], {});\n",
              "          if (!dataTable) return;\n",
              "\n",
              "          const docLinkHtml = 'Like what you see? Visit the ' +\n",
              "            '<a target=\"_blank\" href=https://colab.research.google.com/notebooks/data_table.ipynb>data table notebook</a>'\n",
              "            + ' to learn more about interactive tables.';\n",
              "          element.innerHTML = '';\n",
              "          dataTable['output_type'] = 'display_data';\n",
              "          await google.colab.output.renderOutput(dataTable, element);\n",
              "          const docLink = document.createElement('div');\n",
              "          docLink.innerHTML = docLinkHtml;\n",
              "          element.appendChild(docLink);\n",
              "        }\n",
              "      </script>\n",
              "    </div>\n",
              "  </div>\n",
              "  "
            ],
            "application/vnd.google.colaboratory.module+javascript": "\n      import \"https://ssl.gstatic.com/colaboratory/data_table/f872b2c2305463fd/data_table.js\";\n\n      window.createDataTable({\n        data: [[{\n            'v': 0,\n            'f': \"0\",\n        },\n\"0:00:00\",\n\"img1.jpg\"],\n [{\n            'v': 1,\n            'f': \"1\",\n        },\n\"0:00:01\",\n\"img2.jpg\"],\n [{\n            'v': 2,\n            'f': \"2\",\n        },\n\"0:00:02\",\n\"img3.jpg\"],\n [{\n            'v': 3,\n            'f': \"3\",\n        },\n\"0:00:03\",\n\"img4.jpg\"],\n [{\n            'v': 4,\n            'f': \"4\",\n        },\n\"0:00:04\",\n\"img5.jpg\"],\n [{\n            'v': 5,\n            'f': \"5\",\n        },\n\"0:00:05\",\n\"img6.jpg\"],\n [{\n            'v': 6,\n            'f': \"6\",\n        },\n\"0:00:06\",\n\"img7.jpg\"],\n [{\n            'v': 7,\n            'f': \"7\",\n        },\n\"0:00:07\",\n\"img8.jpg\"],\n [{\n            'v': 8,\n            'f': \"8\",\n        },\n\"0:00:08\",\n\"img9.jpg\"],\n [{\n            'v': 9,\n            'f': \"9\",\n        },\n\"0:00:09\",\n\"img10.jpg\"],\n [{\n            'v': 10,\n            'f': \"10\",\n        },\n\"0:00:10\",\n\"img11.jpg\"],\n [{\n            'v': 11,\n            'f': \"11\",\n        },\n\"0:00:11\",\n\"img12.jpg\"],\n [{\n            'v': 12,\n            'f': \"12\",\n        },\n\"0:00:12\",\n\"img13.jpg\"],\n [{\n            'v': 13,\n            'f': \"13\",\n        },\n\"0:00:13\",\n\"img14.jpg\"],\n [{\n            'v': 14,\n            'f': \"14\",\n        },\n\"0:00:14\",\n\"img15.jpg\"],\n [{\n            'v': 15,\n            'f': \"15\",\n        },\n\"0:00:15\",\n\"img16.jpg\"],\n [{\n            'v': 16,\n            'f': \"16\",\n        },\n\"0:00:16\",\n\"img17.jpg\"],\n [{\n            'v': 17,\n            'f': \"17\",\n        },\n\"0:00:17\",\n\"img18.jpg\"],\n [{\n            'v': 18,\n            'f': \"18\",\n        },\n\"0:00:18\",\n\"img19.jpg\"],\n [{\n            'v': 19,\n            'f': \"19\",\n        },\n\"0:00:19\",\n\"img20.jpg\"],\n [{\n            'v': 20,\n            'f': \"20\",\n        },\n\"0:00:20\",\n\"img21.jpg\"],\n [{\n            'v': 21,\n            'f': \"21\",\n        },\n\"0:00:21\",\n\"img22.jpg\"],\n [{\n            'v': 22,\n            'f': \"22\",\n        },\n\"0:00:22\",\n\"img23.jpg\"],\n [{\n            'v': 23,\n            'f': \"23\",\n        },\n\"0:00:23\",\n\"img24.jpg\"],\n [{\n            'v': 24,\n            'f': \"24\",\n        },\n\"0:00:24\",\n\"img25.jpg\"],\n [{\n            'v': 25,\n            'f': \"25\",\n        },\n\"0:00:25\",\n\"img26.jpg\"],\n [{\n            'v': 26,\n            'f': \"26\",\n        },\n\"0:00:26\",\n\"img27.jpg\"],\n [{\n            'v': 27,\n            'f': \"27\",\n        },\n\"0:00:27\",\n\"img28.jpg\"],\n [{\n            'v': 28,\n            'f': \"28\",\n        },\n\"0:00:28\",\n\"img29.jpg\"],\n [{\n            'v': 29,\n            'f': \"29\",\n        },\n\"0:00:29\",\n\"img30.jpg\"],\n [{\n            'v': 30,\n            'f': \"30\",\n        },\n\"0:00:30\",\n\"img31.jpg\"],\n [{\n            'v': 31,\n            'f': \"31\",\n        },\n\"0:00:31\",\n\"img32.jpg\"],\n [{\n            'v': 32,\n            'f': \"32\",\n        },\n\"0:00:32\",\n\"img33.jpg\"],\n [{\n            'v': 33,\n            'f': \"33\",\n        },\n\"0:00:33\",\n\"img34.jpg\"],\n [{\n            'v': 34,\n            'f': \"34\",\n        },\n\"0:00:34\",\n\"img35.jpg\"],\n [{\n            'v': 35,\n            'f': \"35\",\n        },\n\"0:00:35\",\n\"img36.jpg\"],\n [{\n            'v': 36,\n            'f': \"36\",\n        },\n\"0:00:36\",\n\"img37.jpg\"],\n [{\n            'v': 37,\n            'f': \"37\",\n        },\n\"0:00:37\",\n\"img38.jpg\"],\n [{\n            'v': 38,\n            'f': \"38\",\n        },\n\"0:00:38\",\n\"img39.jpg\"],\n [{\n            'v': 39,\n            'f': \"39\",\n        },\n\"0:00:39\",\n\"img40.jpg\"],\n [{\n            'v': 40,\n            'f': \"40\",\n        },\n\"0:00:40\",\n\"img41.jpg\"],\n [{\n            'v': 41,\n            'f': \"41\",\n        },\n\"0:00:41\",\n\"img42.jpg\"],\n [{\n            'v': 42,\n            'f': \"42\",\n        },\n\"0:00:42\",\n\"img43.jpg\"],\n [{\n            'v': 43,\n            'f': \"43\",\n        },\n\"0:00:43\",\n\"img44.jpg\"],\n [{\n            'v': 44,\n            'f': \"44\",\n        },\n\"0:00:44\",\n\"img45.jpg\"],\n [{\n            'v': 45,\n            'f': \"45\",\n        },\n\"0:00:45\",\n\"img46.jpg\"],\n [{\n            'v': 46,\n            'f': \"46\",\n        },\n\"0:00:46\",\n\"img47.jpg\"],\n [{\n            'v': 47,\n            'f': \"47\",\n        },\n\"0:00:47\",\n\"img48.jpg\"],\n [{\n            'v': 48,\n            'f': \"48\",\n        },\n\"0:00:48\",\n\"img49.jpg\"],\n [{\n            'v': 49,\n            'f': \"49\",\n        },\n\"0:00:49\",\n\"img50.jpg\"],\n [{\n            'v': 50,\n            'f': \"50\",\n        },\n\"0:00:50\",\n\"img51.jpg\"],\n [{\n            'v': 51,\n            'f': \"51\",\n        },\n\"0:00:51\",\n\"img52.jpg\"],\n [{\n            'v': 52,\n            'f': \"52\",\n        },\n\"0:00:52\",\n\"img53.jpg\"],\n [{\n            'v': 53,\n            'f': \"53\",\n        },\n\"0:00:53\",\n\"img54.jpg\"],\n [{\n            'v': 54,\n            'f': \"54\",\n        },\n\"0:00:54\",\n\"img55.jpg\"],\n [{\n            'v': 55,\n            'f': \"55\",\n        },\n\"0:00:55\",\n\"img56.jpg\"],\n [{\n            'v': 56,\n            'f': \"56\",\n        },\n\"0:00:56\",\n\"img57.jpg\"],\n [{\n            'v': 57,\n            'f': \"57\",\n        },\n\"0:00:57\",\n\"img58.jpg\"],\n [{\n            'v': 58,\n            'f': \"58\",\n        },\n\"0:00:58\",\n\"img59.jpg\"],\n [{\n            'v': 59,\n            'f': \"59\",\n        },\n\"0:00:59\",\n\"img60.jpg\"],\n [{\n            'v': 60,\n            'f': \"60\",\n        },\n\"0:01:00\",\n\"img61.jpg\"],\n [{\n            'v': 61,\n            'f': \"61\",\n        },\n\"0:01:01\",\n\"img62.jpg\"],\n [{\n            'v': 62,\n            'f': \"62\",\n        },\n\"0:01:02\",\n\"img63.jpg\"],\n [{\n            'v': 63,\n            'f': \"63\",\n        },\n\"0:01:03\",\n\"img64.jpg\"],\n [{\n            'v': 64,\n            'f': \"64\",\n        },\n\"0:01:04\",\n\"img65.jpg\"],\n [{\n            'v': 65,\n            'f': \"65\",\n        },\n\"0:01:05\",\n\"img66.jpg\"],\n [{\n            'v': 66,\n            'f': \"66\",\n        },\n\"0:01:06\",\n\"img67.jpg\"],\n [{\n            'v': 67,\n            'f': \"67\",\n        },\n\"0:01:07\",\n\"img68.jpg\"],\n [{\n            'v': 68,\n            'f': \"68\",\n        },\n\"0:01:08\",\n\"img69.jpg\"],\n [{\n            'v': 69,\n            'f': \"69\",\n        },\n\"0:01:09\",\n\"img70.jpg\"],\n [{\n            'v': 70,\n            'f': \"70\",\n        },\n\"0:01:10\",\n\"img71.jpg\"],\n [{\n            'v': 71,\n            'f': \"71\",\n        },\n\"0:01:11\",\n\"img72.jpg\"],\n [{\n            'v': 72,\n            'f': \"72\",\n        },\n\"0:01:12\",\n\"img73.jpg\"],\n [{\n            'v': 73,\n            'f': \"73\",\n        },\n\"0:01:13\",\n\"img74.jpg\"],\n [{\n            'v': 74,\n            'f': \"74\",\n        },\n\"0:01:14\",\n\"img75.jpg\"],\n [{\n            'v': 75,\n            'f': \"75\",\n        },\n\"0:01:15\",\n\"img76.jpg\"],\n [{\n            'v': 76,\n            'f': \"76\",\n        },\n\"0:01:16\",\n\"img77.jpg\"],\n [{\n            'v': 77,\n            'f': \"77\",\n        },\n\"0:01:17\",\n\"img78.jpg\"],\n [{\n            'v': 78,\n            'f': \"78\",\n        },\n\"0:01:18\",\n\"img79.jpg\"],\n [{\n            'v': 79,\n            'f': \"79\",\n        },\n\"0:01:19\",\n\"img80.jpg\"],\n [{\n            'v': 80,\n            'f': \"80\",\n        },\n\"0:01:20\",\n\"img81.jpg\"],\n [{\n            'v': 81,\n            'f': \"81\",\n        },\n\"0:01:21\",\n\"img82.jpg\"],\n [{\n            'v': 82,\n            'f': \"82\",\n        },\n\"0:01:22\",\n\"img83.jpg\"],\n [{\n            'v': 83,\n            'f': \"83\",\n        },\n\"0:01:23\",\n\"img84.jpg\"],\n [{\n            'v': 84,\n            'f': \"84\",\n        },\n\"0:01:24\",\n\"img85.jpg\"],\n [{\n            'v': 85,\n            'f': \"85\",\n        },\n\"0:01:25\",\n\"img86.jpg\"],\n [{\n            'v': 86,\n            'f': \"86\",\n        },\n\"0:01:26\",\n\"img87.jpg\"],\n [{\n            'v': 87,\n            'f': \"87\",\n        },\n\"0:01:27\",\n\"img88.jpg\"],\n [{\n            'v': 88,\n            'f': \"88\",\n        },\n\"0:01:28\",\n\"img89.jpg\"],\n [{\n            'v': 89,\n            'f': \"89\",\n        },\n\"0:01:29\",\n\"img90.jpg\"],\n [{\n            'v': 90,\n            'f': \"90\",\n        },\n\"0:01:30\",\n\"img91.jpg\"],\n [{\n            'v': 91,\n            'f': \"91\",\n        },\n\"0:01:31\",\n\"img92.jpg\"],\n [{\n            'v': 92,\n            'f': \"92\",\n        },\n\"0:01:32\",\n\"img93.jpg\"],\n [{\n            'v': 93,\n            'f': \"93\",\n        },\n\"0:01:33\",\n\"img94.jpg\"],\n [{\n            'v': 94,\n            'f': \"94\",\n        },\n\"0:01:34\",\n\"img95.jpg\"],\n [{\n            'v': 95,\n            'f': \"95\",\n        },\n\"0:01:35\",\n\"img96.jpg\"],\n [{\n            'v': 96,\n            'f': \"96\",\n        },\n\"0:01:36\",\n\"img97.jpg\"],\n [{\n            'v': 97,\n            'f': \"97\",\n        },\n\"0:01:37\",\n\"img98.jpg\"],\n [{\n            'v': 98,\n            'f': \"98\",\n        },\n\"0:01:38\",\n\"img99.jpg\"],\n [{\n            'v': 99,\n            'f': \"99\",\n        },\n\"0:01:39\",\n\"img100.jpg\"],\n [{\n            'v': 100,\n            'f': \"100\",\n        },\n\"0:01:40\",\n\"img101.jpg\"],\n [{\n            'v': 101,\n            'f': \"101\",\n        },\n\"0:01:41\",\n\"img102.jpg\"],\n [{\n            'v': 102,\n            'f': \"102\",\n        },\n\"0:01:42\",\n\"img103.jpg\"],\n [{\n            'v': 103,\n            'f': \"103\",\n        },\n\"0:01:43\",\n\"img104.jpg\"],\n [{\n            'v': 104,\n            'f': \"104\",\n        },\n\"0:01:44\",\n\"img105.jpg\"],\n [{\n            'v': 105,\n            'f': \"105\",\n        },\n\"0:01:45\",\n\"img106.jpg\"],\n [{\n            'v': 106,\n            'f': \"106\",\n        },\n\"0:01:46\",\n\"img107.jpg\"],\n [{\n            'v': 107,\n            'f': \"107\",\n        },\n\"0:01:47\",\n\"img108.jpg\"],\n [{\n            'v': 108,\n            'f': \"108\",\n        },\n\"0:01:48\",\n\"img109.jpg\"],\n [{\n            'v': 109,\n            'f': \"109\",\n        },\n\"0:01:49\",\n\"img110.jpg\"],\n [{\n            'v': 110,\n            'f': \"110\",\n        },\n\"0:01:50\",\n\"img111.jpg\"],\n [{\n            'v': 111,\n            'f': \"111\",\n        },\n\"0:01:51\",\n\"img112.jpg\"],\n [{\n            'v': 112,\n            'f': \"112\",\n        },\n\"0:01:52\",\n\"img113.jpg\"],\n [{\n            'v': 113,\n            'f': \"113\",\n        },\n\"0:01:53\",\n\"img114.jpg\"],\n [{\n            'v': 114,\n            'f': \"114\",\n        },\n\"0:01:54\",\n\"img115.jpg\"],\n [{\n            'v': 115,\n            'f': \"115\",\n        },\n\"0:01:55\",\n\"img116.jpg\"],\n [{\n            'v': 116,\n            'f': \"116\",\n        },\n\"0:01:56\",\n\"img117.jpg\"],\n [{\n            'v': 117,\n            'f': \"117\",\n        },\n\"0:01:57\",\n\"img118.jpg\"],\n [{\n            'v': 118,\n            'f': \"118\",\n        },\n\"0:01:58\",\n\"img119.jpg\"],\n [{\n            'v': 119,\n            'f': \"119\",\n        },\n\"0:01:59\",\n\"img120.jpg\"],\n [{\n            'v': 120,\n            'f': \"120\",\n        },\n\"0:02:00\",\n\"img121.jpg\"],\n [{\n            'v': 121,\n            'f': \"121\",\n        },\n\"0:02:01\",\n\"img122.jpg\"],\n [{\n            'v': 122,\n            'f': \"122\",\n        },\n\"0:02:02\",\n\"img123.jpg\"],\n [{\n            'v': 123,\n            'f': \"123\",\n        },\n\"0:02:03\",\n\"img124.jpg\"],\n [{\n            'v': 124,\n            'f': \"124\",\n        },\n\"0:02:04\",\n\"img125.jpg\"],\n [{\n            'v': 125,\n            'f': \"125\",\n        },\n\"0:02:05\",\n\"img126.jpg\"],\n [{\n            'v': 126,\n            'f': \"126\",\n        },\n\"0:02:06\",\n\"img127.jpg\"],\n [{\n            'v': 127,\n            'f': \"127\",\n        },\n\"0:02:07\",\n\"img128.jpg\"],\n [{\n            'v': 128,\n            'f': \"128\",\n        },\n\"0:02:08\",\n\"img129.jpg\"],\n [{\n            'v': 129,\n            'f': \"129\",\n        },\n\"0:02:09\",\n\"img130.jpg\"],\n [{\n            'v': 130,\n            'f': \"130\",\n        },\n\"0:02:10\",\n\"img131.jpg\"],\n [{\n            'v': 131,\n            'f': \"131\",\n        },\n\"0:02:11\",\n\"img132.jpg\"],\n [{\n            'v': 132,\n            'f': \"132\",\n        },\n\"0:02:12\",\n\"img133.jpg\"],\n [{\n            'v': 133,\n            'f': \"133\",\n        },\n\"0:02:13\",\n\"img134.jpg\"],\n [{\n            'v': 134,\n            'f': \"134\",\n        },\n\"0:02:14\",\n\"img135.jpg\"],\n [{\n            'v': 135,\n            'f': \"135\",\n        },\n\"0:02:15\",\n\"img136.jpg\"],\n [{\n            'v': 136,\n            'f': \"136\",\n        },\n\"0:02:16\",\n\"img137.jpg\"],\n [{\n            'v': 137,\n            'f': \"137\",\n        },\n\"0:02:17\",\n\"img138.jpg\"],\n [{\n            'v': 138,\n            'f': \"138\",\n        },\n\"0:02:18\",\n\"img139.jpg\"],\n [{\n            'v': 139,\n            'f': \"139\",\n        },\n\"0:02:19\",\n\"img140.jpg\"],\n [{\n            'v': 140,\n            'f': \"140\",\n        },\n\"0:02:20\",\n\"img141.jpg\"],\n [{\n            'v': 141,\n            'f': \"141\",\n        },\n\"0:02:21\",\n\"img142.jpg\"],\n [{\n            'v': 142,\n            'f': \"142\",\n        },\n\"0:02:22\",\n\"img143.jpg\"],\n [{\n            'v': 143,\n            'f': \"143\",\n        },\n\"0:02:23\",\n\"img144.jpg\"],\n [{\n            'v': 144,\n            'f': \"144\",\n        },\n\"0:02:24\",\n\"img145.jpg\"],\n [{\n            'v': 145,\n            'f': \"145\",\n        },\n\"0:02:25\",\n\"img146.jpg\"],\n [{\n            'v': 146,\n            'f': \"146\",\n        },\n\"0:02:26\",\n\"img147.jpg\"],\n [{\n            'v': 147,\n            'f': \"147\",\n        },\n\"0:02:27\",\n\"img148.jpg\"],\n [{\n            'v': 148,\n            'f': \"148\",\n        },\n\"0:02:28\",\n\"img149.jpg\"],\n [{\n            'v': 149,\n            'f': \"149\",\n        },\n\"0:02:29\",\n\"img150.jpg\"],\n [{\n            'v': 150,\n            'f': \"150\",\n        },\n\"0:02:30\",\n\"img151.jpg\"],\n [{\n            'v': 151,\n            'f': \"151\",\n        },\n\"0:02:31\",\n\"img152.jpg\"]],\n        columns: [[\"number\", \"index\"], [\"string\", \"tempo\"], [\"string\", \"frame\"]],\n        columnOptions: [{\"width\": \"1px\", \"className\": \"index_column\"}],\n        rowsPerPage: 25,\n        helpUrl: \"https://colab.research.google.com/notebooks/data_table.ipynb\",\n        suppressOutputScrolling: true,\n        minimumWidth: undefined,\n      });\n    "
          },
          "metadata": {},
          "execution_count": 18
        }
      ],
      "source": [
        "#pega frames com o tempo em que acontece\n",
        "Indexframe=0\n",
        "countFrame=1\n",
        "tempos = []\n",
        "nomeFrames = []\n",
        "cap = cv2.VideoCapture(best.url)\n",
        "fps = int(cap.get(cv2.CAP_PROP_FPS))\n",
        "print(\"FPS: \", fps)\n",
        "while(cap.isOpened()):\n",
        "    ret, frame = cap.read()\n",
        "    #calculando o tempo de ocorrencia\n",
        "    seconds = int(Indexframe/fps)\n",
        "    frame_time = str(datetime.timedelta(seconds=seconds))\n",
        "    if (frame_time >= tempoInicial):\n",
        "        if frame_time >= tempoFinal: break ##estipula um tempo máx para leitura de frames\n",
        "        if ret == False: break\n",
        "        if Indexframe%30 == 0: \n",
        "            nome = \"img\" + str(countFrame)+ '.jpg'\n",
        "            tempos.append(frame_time)\n",
        "            nomeFrames.append(nome)\n",
        "            cv2.imwrite('/content/drive/MyDrive/Experimentos Qualificação - Cris Cirino/Video 25/Frames extraídos do YT/' + nome, frame)\n",
        "            print('Read a new frame {} at time {}'.format(nome,frame_time))\n",
        "            countFrame += 1\n",
        "    Indexframe += 1\n",
        "    \n",
        "cap.release()\n",
        "cv2.destroyAllWindows()\n",
        "\n",
        "#relação entre o frame extraido com o seu tempo de acontecimento no vídeo\n",
        "df_framesExtraidos = {\n",
        "    'tempo' : tempos,\n",
        "    'frame' : nomeFrames\n",
        "}\n",
        "\n",
        "columns = ['tempo','frame']\n",
        "\n",
        "df_framesExtraidos = pd.DataFrame(data=df_framesExtraidos, columns=columns)\n",
        "df_framesExtraidos\n",
        "\n"
      ]
    },
    {
      "cell_type": "markdown",
      "metadata": {
        "id": "gmyWQoq6zBQq"
      },
      "source": [
        "#-----------------------------------caption---------------------------------------------------------------------------------------------"
      ]
    },
    {
      "cell_type": "code",
      "execution_count": null,
      "metadata": {
        "colab": {
          "base_uri": "https://localhost:8080/",
          "height": 235
        },
        "id": "8jZU5gbmX1Ya",
        "outputId": "18bb3099-0cb7-4d00-e0bf-ec8426bd9f7f"
      },
      "outputs": [
        {
          "output_type": "error",
          "ename": "NameError",
          "evalue": "ignored",
          "traceback": [
            "\u001b[0;31m---------------------------------------------------------------------------\u001b[0m",
            "\u001b[0;31mNameError\u001b[0m                                 Traceback (most recent call last)",
            "\u001b[0;32m<ipython-input-19-2c448fa52290>\u001b[0m in \u001b[0;36m<module>\u001b[0;34m()\u001b[0m\n\u001b[1;32m      1\u001b[0m \u001b[0mfala\u001b[0m \u001b[0;34m=\u001b[0m \u001b[0;34m[\u001b[0m\u001b[0;34m]\u001b[0m\u001b[0;34m\u001b[0m\u001b[0;34m\u001b[0m\u001b[0m\n\u001b[0;32m----> 2\u001b[0;31m \u001b[0md\u001b[0m \u001b[0;34m=\u001b[0m \u001b[0mdf_caption\u001b[0m\u001b[0;34m.\u001b[0m\u001b[0mto_dict\u001b[0m\u001b[0;34m(\u001b[0m\u001b[0morient\u001b[0m\u001b[0;34m=\u001b[0m\u001b[0;34m\"index\"\u001b[0m\u001b[0;34m)\u001b[0m\u001b[0;34m\u001b[0m\u001b[0;34m\u001b[0m\u001b[0m\n\u001b[0m\u001b[1;32m      3\u001b[0m \u001b[0;32mfor\u001b[0m \u001b[0mt\u001b[0m \u001b[0;32min\u001b[0m \u001b[0mdf_framesExtraidos\u001b[0m\u001b[0;34m.\u001b[0m\u001b[0mtempo\u001b[0m\u001b[0;34m:\u001b[0m\u001b[0;34m\u001b[0m\u001b[0;34m\u001b[0m\u001b[0m\n\u001b[1;32m      4\u001b[0m     \u001b[0mf\u001b[0m \u001b[0;34m=\u001b[0m \u001b[0;34m[\u001b[0m\u001b[0;34m]\u001b[0m\u001b[0;34m\u001b[0m\u001b[0;34m\u001b[0m\u001b[0m\n\u001b[1;32m      5\u001b[0m     \u001b[0;32mfor\u001b[0m \u001b[0mi\u001b[0m \u001b[0;32min\u001b[0m \u001b[0mrange\u001b[0m\u001b[0;34m(\u001b[0m\u001b[0mlen\u001b[0m\u001b[0;34m(\u001b[0m\u001b[0mdf_caption\u001b[0m\u001b[0;34m.\u001b[0m\u001b[0mtd_final\u001b[0m\u001b[0;34m)\u001b[0m\u001b[0;34m)\u001b[0m\u001b[0;34m:\u001b[0m\u001b[0;34m\u001b[0m\u001b[0;34m\u001b[0m\u001b[0m\n",
            "\u001b[0;31mNameError\u001b[0m: name 'df_caption' is not defined"
          ]
        }
      ],
      "source": [
        "fala = []\n",
        "d = df_caption.to_dict(orient=\"index\")\n",
        "for t in df_framesExtraidos.tempo:\n",
        "    f = []\n",
        "    for i in range(len(df_caption.td_final)):\n",
        "        if ((df_caption.td_inicial[i] <= t) and (t <= df_caption.td_final[i])): \n",
        "            f.append(d[i])\n",
        "            print(t)\n",
        "    #print(f)    \n",
        "    fala.append(f)"
      ]
    },
    {
      "cell_type": "code",
      "execution_count": null,
      "metadata": {
        "colab": {
          "base_uri": "https://localhost:8080/",
          "height": 328
        },
        "id": "ccO6GLk3X_5V",
        "outputId": "8fa36f0d-0a00-416d-c127-cb354f0a0c42"
      },
      "outputs": [
        {
          "output_type": "error",
          "ename": "ValueError",
          "evalue": "ignored",
          "traceback": [
            "\u001b[0;31m---------------------------------------------------------------------------\u001b[0m",
            "\u001b[0;31mValueError\u001b[0m                                Traceback (most recent call last)",
            "\u001b[0;32m<ipython-input-20-b1615ec84898>\u001b[0m in \u001b[0;36m<module>\u001b[0;34m()\u001b[0m\n\u001b[0;32m----> 1\u001b[0;31m \u001b[0mdf_framesExtraidos\u001b[0m\u001b[0;34m[\u001b[0m\u001b[0;34m'caption'\u001b[0m\u001b[0;34m]\u001b[0m \u001b[0;34m=\u001b[0m \u001b[0mfala\u001b[0m\u001b[0;34m\u001b[0m\u001b[0;34m\u001b[0m\u001b[0m\n\u001b[0m\u001b[1;32m      2\u001b[0m \u001b[0mdf_framesExtraidos\u001b[0m\u001b[0;34m\u001b[0m\u001b[0;34m\u001b[0m\u001b[0m\n",
            "\u001b[0;32m/usr/local/lib/python3.7/dist-packages/pandas/core/frame.py\u001b[0m in \u001b[0;36m__setitem__\u001b[0;34m(self, key, value)\u001b[0m\n\u001b[1;32m   3610\u001b[0m         \u001b[0;32melse\u001b[0m\u001b[0;34m:\u001b[0m\u001b[0;34m\u001b[0m\u001b[0;34m\u001b[0m\u001b[0m\n\u001b[1;32m   3611\u001b[0m             \u001b[0;31m# set column\u001b[0m\u001b[0;34m\u001b[0m\u001b[0;34m\u001b[0m\u001b[0;34m\u001b[0m\u001b[0m\n\u001b[0;32m-> 3612\u001b[0;31m             \u001b[0mself\u001b[0m\u001b[0;34m.\u001b[0m\u001b[0m_set_item\u001b[0m\u001b[0;34m(\u001b[0m\u001b[0mkey\u001b[0m\u001b[0;34m,\u001b[0m \u001b[0mvalue\u001b[0m\u001b[0;34m)\u001b[0m\u001b[0;34m\u001b[0m\u001b[0;34m\u001b[0m\u001b[0m\n\u001b[0m\u001b[1;32m   3613\u001b[0m \u001b[0;34m\u001b[0m\u001b[0m\n\u001b[1;32m   3614\u001b[0m     \u001b[0;32mdef\u001b[0m \u001b[0m_setitem_slice\u001b[0m\u001b[0;34m(\u001b[0m\u001b[0mself\u001b[0m\u001b[0;34m,\u001b[0m \u001b[0mkey\u001b[0m\u001b[0;34m:\u001b[0m \u001b[0mslice\u001b[0m\u001b[0;34m,\u001b[0m \u001b[0mvalue\u001b[0m\u001b[0;34m)\u001b[0m\u001b[0;34m:\u001b[0m\u001b[0;34m\u001b[0m\u001b[0;34m\u001b[0m\u001b[0m\n",
            "\u001b[0;32m/usr/local/lib/python3.7/dist-packages/pandas/core/frame.py\u001b[0m in \u001b[0;36m_set_item\u001b[0;34m(self, key, value)\u001b[0m\n\u001b[1;32m   3782\u001b[0m         \u001b[0mensure\u001b[0m \u001b[0mhomogeneity\u001b[0m\u001b[0;34m.\u001b[0m\u001b[0;34m\u001b[0m\u001b[0;34m\u001b[0m\u001b[0m\n\u001b[1;32m   3783\u001b[0m         \"\"\"\n\u001b[0;32m-> 3784\u001b[0;31m         \u001b[0mvalue\u001b[0m \u001b[0;34m=\u001b[0m \u001b[0mself\u001b[0m\u001b[0;34m.\u001b[0m\u001b[0m_sanitize_column\u001b[0m\u001b[0;34m(\u001b[0m\u001b[0mvalue\u001b[0m\u001b[0;34m)\u001b[0m\u001b[0;34m\u001b[0m\u001b[0;34m\u001b[0m\u001b[0m\n\u001b[0m\u001b[1;32m   3785\u001b[0m \u001b[0;34m\u001b[0m\u001b[0m\n\u001b[1;32m   3786\u001b[0m         if (\n",
            "\u001b[0;32m/usr/local/lib/python3.7/dist-packages/pandas/core/frame.py\u001b[0m in \u001b[0;36m_sanitize_column\u001b[0;34m(self, value)\u001b[0m\n\u001b[1;32m   4507\u001b[0m \u001b[0;34m\u001b[0m\u001b[0m\n\u001b[1;32m   4508\u001b[0m         \u001b[0;32mif\u001b[0m \u001b[0mis_list_like\u001b[0m\u001b[0;34m(\u001b[0m\u001b[0mvalue\u001b[0m\u001b[0;34m)\u001b[0m\u001b[0;34m:\u001b[0m\u001b[0;34m\u001b[0m\u001b[0;34m\u001b[0m\u001b[0m\n\u001b[0;32m-> 4509\u001b[0;31m             \u001b[0mcom\u001b[0m\u001b[0;34m.\u001b[0m\u001b[0mrequire_length_match\u001b[0m\u001b[0;34m(\u001b[0m\u001b[0mvalue\u001b[0m\u001b[0;34m,\u001b[0m \u001b[0mself\u001b[0m\u001b[0;34m.\u001b[0m\u001b[0mindex\u001b[0m\u001b[0;34m)\u001b[0m\u001b[0;34m\u001b[0m\u001b[0;34m\u001b[0m\u001b[0m\n\u001b[0m\u001b[1;32m   4510\u001b[0m         \u001b[0;32mreturn\u001b[0m \u001b[0msanitize_array\u001b[0m\u001b[0;34m(\u001b[0m\u001b[0mvalue\u001b[0m\u001b[0;34m,\u001b[0m \u001b[0mself\u001b[0m\u001b[0;34m.\u001b[0m\u001b[0mindex\u001b[0m\u001b[0;34m,\u001b[0m \u001b[0mcopy\u001b[0m\u001b[0;34m=\u001b[0m\u001b[0;32mTrue\u001b[0m\u001b[0;34m,\u001b[0m \u001b[0mallow_2d\u001b[0m\u001b[0;34m=\u001b[0m\u001b[0;32mTrue\u001b[0m\u001b[0;34m)\u001b[0m\u001b[0;34m\u001b[0m\u001b[0;34m\u001b[0m\u001b[0m\n\u001b[1;32m   4511\u001b[0m \u001b[0;34m\u001b[0m\u001b[0m\n",
            "\u001b[0;32m/usr/local/lib/python3.7/dist-packages/pandas/core/common.py\u001b[0m in \u001b[0;36mrequire_length_match\u001b[0;34m(data, index)\u001b[0m\n\u001b[1;32m    530\u001b[0m     \u001b[0;32mif\u001b[0m \u001b[0mlen\u001b[0m\u001b[0;34m(\u001b[0m\u001b[0mdata\u001b[0m\u001b[0;34m)\u001b[0m \u001b[0;34m!=\u001b[0m \u001b[0mlen\u001b[0m\u001b[0;34m(\u001b[0m\u001b[0mindex\u001b[0m\u001b[0;34m)\u001b[0m\u001b[0;34m:\u001b[0m\u001b[0;34m\u001b[0m\u001b[0;34m\u001b[0m\u001b[0m\n\u001b[1;32m    531\u001b[0m         raise ValueError(\n\u001b[0;32m--> 532\u001b[0;31m             \u001b[0;34m\"Length of values \"\u001b[0m\u001b[0;34m\u001b[0m\u001b[0;34m\u001b[0m\u001b[0m\n\u001b[0m\u001b[1;32m    533\u001b[0m             \u001b[0;34mf\"({len(data)}) \"\u001b[0m\u001b[0;34m\u001b[0m\u001b[0;34m\u001b[0m\u001b[0m\n\u001b[1;32m    534\u001b[0m             \u001b[0;34m\"does not match length of index \"\u001b[0m\u001b[0;34m\u001b[0m\u001b[0;34m\u001b[0m\u001b[0m\n",
            "\u001b[0;31mValueError\u001b[0m: Length of values (0) does not match length of index (152)"
          ]
        }
      ],
      "source": [
        "df_framesExtraidos['caption'] = fala\n",
        "df_framesExtraidos"
      ]
    },
    {
      "cell_type": "code",
      "execution_count": null,
      "metadata": {
        "id": "iYljiwcWYC46"
      },
      "outputs": [],
      "source": [
        "#salva em um .tempo-image-='csv\n",
        "#df_framesExtraidos.to_csv('/content/drive/MyDrive/1 - IA - ViU/Comunicação e IA/APIs - codes samples/4 - Experimentos/Live do JB - 22 04 2021/h2_tempo-img-fala.csv', encoding='utf-8')"
      ]
    }
  ],
  "metadata": {
    "colab": {
      "collapsed_sections": [],
      "name": "extrair_frames_yt.ipynb",
      "provenance": [],
      "include_colab_link": true
    },
    "kernelspec": {
      "display_name": "Python 3",
      "name": "python3"
    },
    "language_info": {
      "name": "python"
    },
    "accelerator": "GPU",
    "gpuClass": "standard"
  },
  "nbformat": 4,
  "nbformat_minor": 0
}